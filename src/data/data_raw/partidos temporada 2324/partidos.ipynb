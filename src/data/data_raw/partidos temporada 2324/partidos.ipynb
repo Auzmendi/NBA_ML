{
 "cells": [
  {
   "cell_type": "code",
   "execution_count": 1,
   "metadata": {},
   "outputs": [],
   "source": [
    "import pandas as pd\n",
    "\n"
   ]
  },
  {
   "cell_type": "code",
   "execution_count": 32,
   "metadata": {},
   "outputs": [],
   "source": [
    "df = pd.read_csv('p_octubre.csv')\n",
    "\n"
   ]
  },
  {
   "cell_type": "code",
   "execution_count": 35,
   "metadata": {},
   "outputs": [],
   "source": [
    "meses=['octubre','noviembre','diciembre','enero','febrero','marzo','abril','mayo']\n",
    "nombre=[]\n",
    "archivo=[]\n",
    "for mes in meses:\n",
    "    nombre.append('df_'+mes)\n",
    "    archivo.append('p_'+mes+'.csv')"
   ]
  },
  {
   "cell_type": "code",
   "execution_count": 43,
   "metadata": {},
   "outputs": [],
   "source": [
    "df_octubre=pd.read_csv('p_octubre.csv')"
   ]
  },
  {
   "cell_type": "code",
   "execution_count": 38,
   "metadata": {},
   "outputs": [],
   "source": [
    "\n",
    "df_noviembre=pd.read_csv('p_noviembre.csv')\n",
    "df_diciembre=pd.read_csv('p_diciembre.csv')\n",
    "df_enero=pd.read_csv('p_enero.csv')\n",
    "df_febrero=pd.read_csv('p_febrero.csv')\n",
    "df_marzo=pd.read_csv('p_marzo.csv')\n",
    "df_abril=pd.read_csv('p_abril.csv')\n",
    "df_mayo=pd.read_csv('p_mayo.csv')\n",
    "df_junio=pd.read_csv('p_junio.csv')"
   ]
  },
  {
   "cell_type": "code",
   "execution_count": 44,
   "metadata": {},
   "outputs": [
    {
     "data": {
      "text/plain": [
       "(1319, 11)"
      ]
     },
     "execution_count": 44,
     "metadata": {},
     "output_type": "execute_result"
    }
   ],
   "source": [
    "dfs=[df_octubre,df_noviembre,df_diciembre,df_enero,df_febrero,df_marzo,df_abril,df_mayo,df_junio]\n",
    "df_general = pd.concat(dfs,ignore_index=True)\n",
    "df_general.shape"
   ]
  },
  {
   "cell_type": "code",
   "execution_count": 45,
   "metadata": {},
   "outputs": [
    {
     "data": {
      "text/html": [
       "<div>\n",
       "<style scoped>\n",
       "    .dataframe tbody tr th:only-of-type {\n",
       "        vertical-align: middle;\n",
       "    }\n",
       "\n",
       "    .dataframe tbody tr th {\n",
       "        vertical-align: top;\n",
       "    }\n",
       "\n",
       "    .dataframe thead th {\n",
       "        text-align: right;\n",
       "    }\n",
       "</style>\n",
       "<table border=\"1\" class=\"dataframe\">\n",
       "  <thead>\n",
       "    <tr style=\"text-align: right;\">\n",
       "      <th></th>\n",
       "      <th>Date</th>\n",
       "      <th>Start (ET)</th>\n",
       "      <th>Visitor/Neutral</th>\n",
       "      <th>PTS</th>\n",
       "      <th>Home/Neutral</th>\n",
       "      <th>PTS.1</th>\n",
       "      <th>Unnamed: 6</th>\n",
       "      <th>Unnamed: 7</th>\n",
       "      <th>Attend.</th>\n",
       "      <th>Arena</th>\n",
       "      <th>Notes</th>\n",
       "    </tr>\n",
       "  </thead>\n",
       "  <tbody>\n",
       "    <tr>\n",
       "      <th>0</th>\n",
       "      <td>Tue, Oct 24, 2023</td>\n",
       "      <td>7:30p</td>\n",
       "      <td>Los Angeles Lakers</td>\n",
       "      <td>107.0</td>\n",
       "      <td>Denver Nuggets</td>\n",
       "      <td>119.0</td>\n",
       "      <td>Box Score</td>\n",
       "      <td>NaN</td>\n",
       "      <td>19,842</td>\n",
       "      <td>Ball Arena</td>\n",
       "      <td>NaN</td>\n",
       "    </tr>\n",
       "    <tr>\n",
       "      <th>1</th>\n",
       "      <td>Tue, Oct 24, 2023</td>\n",
       "      <td>10:00p</td>\n",
       "      <td>Phoenix Suns</td>\n",
       "      <td>108.0</td>\n",
       "      <td>Golden State Warriors</td>\n",
       "      <td>104.0</td>\n",
       "      <td>Box Score</td>\n",
       "      <td>NaN</td>\n",
       "      <td>18,064</td>\n",
       "      <td>Chase Center</td>\n",
       "      <td>NaN</td>\n",
       "    </tr>\n",
       "    <tr>\n",
       "      <th>2</th>\n",
       "      <td>Wed, Oct 25, 2023</td>\n",
       "      <td>7:00p</td>\n",
       "      <td>Houston Rockets</td>\n",
       "      <td>86.0</td>\n",
       "      <td>Orlando Magic</td>\n",
       "      <td>116.0</td>\n",
       "      <td>Box Score</td>\n",
       "      <td>NaN</td>\n",
       "      <td>18,846</td>\n",
       "      <td>Kia Center</td>\n",
       "      <td>NaN</td>\n",
       "    </tr>\n",
       "    <tr>\n",
       "      <th>3</th>\n",
       "      <td>Wed, Oct 25, 2023</td>\n",
       "      <td>7:00p</td>\n",
       "      <td>Boston Celtics</td>\n",
       "      <td>108.0</td>\n",
       "      <td>New York Knicks</td>\n",
       "      <td>104.0</td>\n",
       "      <td>Box Score</td>\n",
       "      <td>NaN</td>\n",
       "      <td>19,812</td>\n",
       "      <td>Madison Square Garden (IV)</td>\n",
       "      <td>NaN</td>\n",
       "    </tr>\n",
       "    <tr>\n",
       "      <th>4</th>\n",
       "      <td>Wed, Oct 25, 2023</td>\n",
       "      <td>7:00p</td>\n",
       "      <td>Washington Wizards</td>\n",
       "      <td>120.0</td>\n",
       "      <td>Indiana Pacers</td>\n",
       "      <td>143.0</td>\n",
       "      <td>Box Score</td>\n",
       "      <td>NaN</td>\n",
       "      <td>16,004</td>\n",
       "      <td>Gainbridge Fieldhouse</td>\n",
       "      <td>NaN</td>\n",
       "    </tr>\n",
       "  </tbody>\n",
       "</table>\n",
       "</div>"
      ],
      "text/plain": [
       "                Date Start (ET)     Visitor/Neutral    PTS  \\\n",
       "0  Tue, Oct 24, 2023      7:30p  Los Angeles Lakers  107.0   \n",
       "1  Tue, Oct 24, 2023     10:00p        Phoenix Suns  108.0   \n",
       "2  Wed, Oct 25, 2023      7:00p     Houston Rockets   86.0   \n",
       "3  Wed, Oct 25, 2023      7:00p      Boston Celtics  108.0   \n",
       "4  Wed, Oct 25, 2023      7:00p  Washington Wizards  120.0   \n",
       "\n",
       "            Home/Neutral  PTS.1 Unnamed: 6 Unnamed: 7 Attend.  \\\n",
       "0         Denver Nuggets  119.0  Box Score        NaN  19,842   \n",
       "1  Golden State Warriors  104.0  Box Score        NaN  18,064   \n",
       "2          Orlando Magic  116.0  Box Score        NaN  18,846   \n",
       "3        New York Knicks  104.0  Box Score        NaN  19,812   \n",
       "4         Indiana Pacers  143.0  Box Score        NaN  16,004   \n",
       "\n",
       "                        Arena Notes  \n",
       "0                  Ball Arena   NaN  \n",
       "1                Chase Center   NaN  \n",
       "2                  Kia Center   NaN  \n",
       "3  Madison Square Garden (IV)   NaN  \n",
       "4       Gainbridge Fieldhouse   NaN  "
      ]
     },
     "execution_count": 45,
     "metadata": {},
     "output_type": "execute_result"
    }
   ],
   "source": [
    "df=df_general\n",
    "df.head()"
   ]
  },
  {
   "cell_type": "code",
   "execution_count": 46,
   "metadata": {},
   "outputs": [],
   "source": [
    "df.to_csv('partidostemp24.csv')"
   ]
  },
  {
   "cell_type": "code",
   "execution_count": null,
   "metadata": {},
   "outputs": [],
   "source": []
  }
 ],
 "metadata": {
  "kernelspec": {
   "display_name": "Python 3",
   "language": "python",
   "name": "python3"
  },
  "language_info": {
   "codemirror_mode": {
    "name": "ipython",
    "version": 3
   },
   "file_extension": ".py",
   "mimetype": "text/x-python",
   "name": "python",
   "nbconvert_exporter": "python",
   "pygments_lexer": "ipython3",
   "version": "3.11.9"
  }
 },
 "nbformat": 4,
 "nbformat_minor": 2
}
